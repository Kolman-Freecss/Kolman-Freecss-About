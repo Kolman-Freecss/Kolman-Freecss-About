{
 "cells": [
  {
   "cell_type": "markdown",
   "id": "470561fa",
   "metadata": {},
   "source": [
    "Install the latest OpenAI package..."
   ]
  },
  {
   "cell_type": "code",
   "id": "b36942c1",
   "metadata": {},
   "source": [
    "!pip install openai --upgrade"
   ],
   "outputs": [],
   "execution_count": null
  },
  {
   "cell_type": "code",
   "id": "00df62fb",
   "metadata": {},
   "source": [
    "import os\n",
    "from openai import OpenAI\n",
    "client = OpenAI()"
   ],
   "outputs": [],
   "execution_count": null
  },
  {
   "cell_type": "markdown",
   "id": "276cb367",
   "metadata": {},
   "source": [
    "Upload our training and evaluation files, in chat completion format:"
   ]
  },
  {
   "cell_type": "code",
   "id": "638aa772",
   "metadata": {},
   "source": [
    "client.files.create(\n",
    "  file=open(\"./DATA_train.jsonl\", \"rb\"),\n",
    "  purpose='fine-tune'\n",
    ")"
   ],
   "outputs": [],
   "execution_count": null
  },
  {
   "cell_type": "code",
   "id": "2d3da0ad",
   "metadata": {},
   "source": [
    "client.files.create(\n",
    "  file=open(\"./DATA_eval.jsonl\", \"rb\"),\n",
    "  purpose='fine-tune'\n",
    ")"
   ],
   "outputs": [],
   "execution_count": null
  },
  {
   "cell_type": "markdown",
   "id": "b45dc0e1",
   "metadata": {},
   "source": [
    "Check the status of these files by copying in the returned ID's above. If there are JSON errors they will be reported here."
   ]
  },
  {
   "cell_type": "code",
   "id": "ffc4be66",
   "metadata": {},
   "source": [
    "client.files.retrieve(\"file-UqPVnkk9z8Q74BEUqPlnhjHL\")"
   ],
   "outputs": [],
   "execution_count": null
  },
  {
   "cell_type": "markdown",
   "id": "0558d96b",
   "metadata": {},
   "source": [
    "Start our fine tuning job! Copy in the ID's for our uploaded training and validation files."
   ]
  },
  {
   "cell_type": "code",
   "id": "7f83856c",
   "metadata": {},
   "source": [
    "client.fine_tuning.jobs.create(training_file=\"file-9lI2ovFA1UJskgOPpxDTwEhG\", validation_file=\"file-UqPVnkk9z8Q74BEUqPlnhjHL\", model=\"gpt-3.5-turbo\")"
   ],
   "outputs": [],
   "execution_count": null
  },
  {
   "cell_type": "markdown",
   "id": "52ab0e27",
   "metadata": {},
   "source": [
    "Get general info about this job."
   ]
  },
  {
   "cell_type": "code",
   "id": "e6621b29",
   "metadata": {},
   "source": [
    "client.fine_tuning.jobs.retrieve(\"ftjob-mQlhbPB5vsog1SeDLNx2xAMj\")"
   ],
   "outputs": [],
   "execution_count": null
  },
  {
   "cell_type": "markdown",
   "id": "f3c4e264",
   "metadata": {},
   "source": [
    "Monitor its progress. When done, you can use the resulting fine tuned model ID in the playground (or the API)"
   ]
  },
  {
   "cell_type": "code",
   "id": "a38f20e2",
   "metadata": {},
   "source": [
    "client.fine_tuning.jobs.list_events(id=\"ftjob-mQlhbPB5vsog1SeDLNx2xAMj\", limit=10)"
   ],
   "outputs": [],
   "execution_count": null
  },
  {
   "cell_type": "markdown",
   "id": "45e8edcb",
   "metadata": {},
   "source": [
    "For comparison, see how the non-fine-tuned GPT model does:"
   ]
  },
  {
   "cell_type": "code",
   "id": "feaaf07d",
   "metadata": {},
   "source": [
    "completion = client.chat.completions.create(\n",
    "  model=\"gpt-3.5-turbo\",\n",
    "  messages=[\n",
    "    {\"role\": \"system\", \"content\": \"Data is an android in the TV series Star Trek: The Next Generation.\"},\n",
    "    {\"role\": \"user\", \"content\": \"PICARD: Mr. Data, scan for lifeforms.\"}\n",
    "  ]\n",
    ")\n",
    "\n",
    "print(completion.choices[0].message)\n"
   ],
   "outputs": [],
   "execution_count": null
  },
  {
   "cell_type": "markdown",
   "id": "7ac0f853",
   "metadata": {},
   "source": [
    "When it's done, try our fine-tuned model! Copy in our fine tuned ID."
   ]
  },
  {
   "cell_type": "code",
   "id": "1249edde",
   "metadata": {},
   "source": [
    "completion = client.chat.completions.create(\n",
    "  model=\"ft:gpt-3.5-turbo-0613:sundog-software-llc::7qiBf2gI\",\n",
    "  messages=[\n",
    "    {\"role\": \"system\", \"content\": \"Data is an android in the TV series Star Trek: The Next Generation.\"},\n",
    "    {\"role\": \"user\", \"content\": \"PICARD: Mr. Data, scan for lifeforms.\"}\n",
    "  ]\n",
    ")\n",
    "\n",
    "print(completion.choices[0].message)"
   ],
   "outputs": [],
   "execution_count": null
  },
  {
   "cell_type": "code",
   "id": "82066210",
   "metadata": {},
   "source": [],
   "outputs": [],
   "execution_count": null
  }
 ],
 "metadata": {
  "kernelspec": {
   "display_name": "Python 3 (ipykernel)",
   "language": "python",
   "name": "python3"
  },
  "language_info": {
   "codemirror_mode": {
    "name": "ipython",
    "version": 3
   },
   "file_extension": ".py",
   "mimetype": "text/x-python",
   "name": "python",
   "nbconvert_exporter": "python",
   "pygments_lexer": "ipython3",
   "version": "3.8.18"
  }
 },
 "nbformat": 4,
 "nbformat_minor": 5
}
